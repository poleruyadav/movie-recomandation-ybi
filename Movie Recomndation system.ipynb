{
 "cells": [
  {
   "cell_type": "code",
   "execution_count": 8,
   "metadata": {},
   "outputs": [],
   "source": [
    "import numpy as np \n",
    "from sklearn.feature_extraction.text import CountVectorizer\n",
    "from sklearn.metrics.pairwise import cosine_similarity\n",
    "\n",
    "def get_title_from_index(index):\n",
    "\treturn df[df.index==index][\"title\"].values[0]\n",
    "\n",
    "def get_index_from_title(title):\n",
    "\treturn df[df.title==title][\"index\"].values[0]\n",
    "\n",
    "##READ_FILE\n",
    "import pandas as pd \n",
    "df=pd.read_csv(r\"C:\\Users\\Prashant\\Desktop\\movie_rec\\movie_dataset.csv\")\n",
    "\n"
   ]
  },
  {
   "cell_type": "code",
   "execution_count": 9,
   "metadata": {},
   "outputs": [
    {
     "name": "stdout",
     "output_type": "stream",
     "text": [
      "Index(['index', 'budget', 'genres', 'homepage', 'id', 'keywords',\n",
      "       'original_language', 'original_title', 'overview', 'popularity',\n",
      "       'production_companies', 'production_countries', 'release_date',\n",
      "       'revenue', 'runtime', 'spoken_languages', 'status', 'tagline', 'title',\n",
      "       'vote_average', 'vote_count', 'cast', 'crew', 'director'],\n",
      "      dtype='object')\n"
     ]
    }
   ],
   "source": [
    "print(df.columns)"
   ]
  },
  {
   "cell_type": "code",
   "execution_count": 10,
   "metadata": {},
   "outputs": [],
   "source": [
    "#Select features\n",
    "features=['keywords','genres','cast','overview']\n",
    "\n",
    "for feature in features:\n",
    "    df[feature] = df[feature].fillna(\" \")\n",
    "    "
   ]
  },
  {
   "cell_type": "code",
   "execution_count": 11,
   "metadata": {},
   "outputs": [
    {
     "name": "stdout",
     "output_type": "stream",
     "text": [
      "combined featuers: 0    culture clash future space war space colony so...\n",
      "1    ocean drug abuse exotic island east india trad...\n",
      "2    spy based on novel secret agent sequel mi6 Dan...\n",
      "3    dc comics crime fighter terrorist secret ident...\n",
      "4    based on novel mars medallion space travel pri...\n",
      "Name: myft, dtype: object\n"
     ]
    }
   ],
   "source": [
    "##myft = myfeature\n",
    "def myft(row):\n",
    "    try:\n",
    "        return row['keywords']+\" \"+row['cast']+\" \"+row['genres']+\" \"+row['overview']\n",
    "    except:\n",
    "        print(\"Error\",row)\n",
    "        \n",
    "        \n",
    "df[\"myft\"]= df.apply(myft,axis=1 )\n",
    "print (\"combined featuers:\",df[\"myft\"].head())\n",
    " "
   ]
  },
  {
   "cell_type": "code",
   "execution_count": 12,
   "metadata": {},
   "outputs": [],
   "source": [
    "cv = CountVectorizer()\n",
    "count_metrix = cv.fit_transform(df[\"myft\"])\n",
    "\n",
    "cosine_sim = cosine_similarity(count_metrix)\n",
    "movie_like = \"Guardians of the Galaxy\""
   ]
  },
  {
   "cell_type": "code",
   "execution_count": 13,
   "metadata": {},
   "outputs": [],
   "source": [
    "movie_index = get_index_from_title(movie_like)\n",
    "similar_movies = list(enumerate(cosine_sim[movie_index]))\n",
    "\n",
    "sorted_similar_movies= sorted(similar_movies,key=lambda x:x[1],reverse=True)\n"
   ]
  },
  {
   "cell_type": "code",
   "execution_count": 14,
   "metadata": {},
   "outputs": [
    {
     "name": "stdout",
     "output_type": "stream",
     "text": [
      "Guardians of the Galaxy\n",
      "Space Battleship Yamato\n",
      "Star Trek Beyond\n",
      "The Avengers\n",
      "The Chronicles of Riddick\n",
      "The Day After Tomorrow\n",
      "Alien\n",
      "Lost in Space\n",
      "The Hobbit: The Battle of the Five Armies\n",
      "Avengers: Age of Ultron\n",
      "Men in Black II\n"
     ]
    }
   ],
   "source": [
    "i=0\n",
    "for movie in sorted_similar_movies:\n",
    "    print (get_title_from_index(movie[0]))\n",
    "    i=i+1\n",
    "    if i>10:\n",
    "        break"
   ]
  },
  {
   "cell_type": "code",
   "execution_count": null,
   "metadata": {},
   "outputs": [],
   "source": []
  }
 ],
 "metadata": {
  "kernelspec": {
   "display_name": "Python 3",
   "language": "python",
   "name": "python3"
  },
  "language_info": {
   "codemirror_mode": {
    "name": "ipython",
    "version": 3
   },
   "file_extension": ".py",
   "mimetype": "text/x-python",
   "name": "python",
   "nbconvert_exporter": "python",
   "pygments_lexer": "ipython3",
   "version": "3.6.5"
  }
 },
 "nbformat": 4,
 "nbformat_minor": 2
}
